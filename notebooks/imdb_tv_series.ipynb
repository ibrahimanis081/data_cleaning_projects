{
 "cells": [
  {
   "cell_type": "markdown",
   "id": "159232ca-6ba5-4b2b-b569-eb6e29baea9f",
   "metadata": {},
   "source": [
    "In this notebook, I will walk you through the steps to be taken to clean and carry out exploratory data analysis on the IMDB TV series data from kaggle https://www.kaggle.com/datasets/suraj520/imdb-tv-series-data\n",
    "The dataset contains information about TV series from IMDb, including details such as title, IMDb ID, release year, genre, cast, synopsis, rating, runtime, certificate, number of votes, and gross revenue. The data is scraped from the IMDb website using web scraping techniques and is organized into separate CSV files for each genre."
   ]
  },
  {
   "cell_type": "markdown",
   "id": "77d1373c-0240-45fb-9d0b-c40776af9b91",
   "metadata": {},
   "source": [
    "Importing Required Libraries:\n",
    "* glob: This library is used to retrieve file paths matching specified patterns.\n",
    "* pandas: It provides data manipulation and analysis capabilities.\n",
    "* os: This library provides a way to interact with the operating system, including file and directory operations.\n",
    "* zipfile: This library offers tools to create, read, write, and extract files from ZIP archives."
   ]
  },
  {
   "cell_type": "code",
   "execution_count": null,
   "id": "00270abc-953c-4e4e-a1e2-3c457ae2005c",
   "metadata": {},
   "outputs": [],
   "source": [
    "import glob\n",
    "import pandas as pd\n",
    "import os\n",
    "from zipfile import ZipFile"
   ]
  },
  {
   "cell_type": "markdown",
   "id": "ec5feb6c-24d4-48f8-a3d4-97e494b0f2da",
   "metadata": {},
   "source": [
    "The imdb data is a zip file called archive.zip, to find it, you start with an empty list called zip_files to store the paths of the identified ZIP files.\n",
    "Begin walking through the directory structure using os.walk(\"/home/anees/projects/EDA_and_data_cleaning\").\n",
    "For each directory, examine the files within it.\n",
    "If a file has a \".zip\" extension, add its path to the zip_files list.\n",
    "Continue the process until all directories have been traversed.\n",
    "Finally, print the zip_files list to display the paths of all identified ZIP files."
   ]
  },
  {
   "cell_type": "code",
   "execution_count": null,
   "id": "6290dedd-a871-4673-839f-777dd5a37bee",
   "metadata": {},
   "outputs": [],
   "source": [
    "zip_files = []\n",
    "for root, dirs, files in os.walk(\"/home/anees/projects/EDA_and_data_cleaning\"):\n",
    "    for file in files:\n",
    "        if file.endswith(\".zip\"):\n",
    "            zip_files.append(os.path.join(root, file))\n",
    "\n",
    "print(zip_files)"
   ]
  },
  {
   "cell_type": "markdown",
   "id": "6f028389-d63a-43ac-8afc-19fabf120531",
   "metadata": {},
   "source": [
    "After obtaining the list of ZIP file paths, you will notice that the \"archive.zip\" file is located at the last index. Utilizing the zipfile library, you can extract the contents of this ZIP file to a folder named \"imdb_files\" within the \"raw_data/imdb\" directory. Once extracted, you can verify the extraction process by printing the paths of the extracted CSV files."
   ]
  },
  {
   "cell_type": "code",
   "execution_count": null,
   "id": "f0520a46-ce89-45dc-8ab5-dec701979e5f",
   "metadata": {},
   "outputs": [],
   "source": [
    "with ZipFile(zip_files[-1], \"r\") as file:\n",
    "    file.extractall(path=\"/home/anees/projects/EDA_and_data_cleaning/raw_data/imdb/imdb_files\")\n",
    "\n",
    "csv_files = glob.glob(\"/home/anees/projects/EDA_and_data_cleaning/raw_data/imdb/imdb_files/*.csv\")\n",
    "for csv_file in csv_files:\n",
    "    print(csv_file)"
   ]
  },
  {
   "cell_type": "markdown",
   "id": "b58c8257-fde2-4a93-be76-8262b6c863e7",
   "metadata": {},
   "source": [
    "To process the extracted CSV files and create a consolidated DataFrame, you can iterate through the list of CSV file paths, read each CSV file using pd.read_csv(), and append the resulting DataFrames to a list called dataframes. Finally, you can use pd.concat() to concatenate the DataFrames into a single DataFrame called imdb_df.\n",
    "By executing this code, you will obtain the consolidated DataFrame imdb_df, which contains the data from all the extracted CSV files."
   ]
  },
  {
   "cell_type": "code",
   "execution_count": null,
   "id": "744b900b-0897-4795-99ea-a74ea70d344d",
   "metadata": {},
   "outputs": [],
   "source": [
    "dataframes = []\n",
    "for csv_file in csv_files:\n",
    "    df = pd.read_csv(csv_file)\n",
    "    dataframes.append(df)\n",
    "imdb_df = pd.concat(dataframes, ignore_index=True)"
   ]
  },
  {
   "cell_type": "markdown",
   "id": "8ad1b45d-2a0f-498d-98bf-cf826c38b027",
   "metadata": {},
   "source": [
    "To retrieve information about the structure and summary of the consolidated DataFrame imdb_df, you can use the info() method.\n",
    "Here's the code:"
   ]
  },
  {
   "cell_type": "code",
   "execution_count": null,
   "id": "c4003597-6bc4-4963-8f21-31654f79d2a5",
   "metadata": {},
   "outputs": [],
   "source": [
    "imdb_df.info() "
   ]
  },
  {
   "cell_type": "markdown",
   "id": "0f31d698-de58-4b78-a85a-8263a117593b",
   "metadata": {},
   "source": [
    "the imdb_df.info() command provides you with information about the structure and summary of the consolidated DataFrame imdb_df. \n",
    "The output provides the following details:\n",
    "* The DataFrame has a RangeIndex with 236,828 entries, ranging from index 0 to index 236,827.\n",
    "* There are 11 columns in the DataFrame.\n",
    "* Each column is listed along with its non-null count and data type.\n",
    "* The DataFrame contains a mix of data types, with 10 columns being of type object and 1 column being of type float64.\n",
    "* The memory usage of the DataFrame is reported as approximately 19.9+ MB.\n",
    "This information helps you understand the composition and structure of the DataFrame, including the number of entries, data types, and missing values for each column."
   ]
  },
  {
   "cell_type": "markdown",
   "id": "54a83a45-8907-4d22-8347-db77cb3431d9",
   "metadata": {},
   "source": [
    "To enhance the DataFrame's structure, you can modify the index and column names to adhere to professional conventions.\n",
    "\n",
    "To update the index, you can set it to start at 1 instead of 0 by adding 1 to the existing index values. Additionally, you can make the column names consistent by replacing any spaces with underscores (_) and converting them to lowercase. You can then use the info() method again to verify the changes have been effected\n",
    "\n",
    "Consider the following code:"
   ]
  },
  {
   "cell_type": "code",
   "execution_count": null,
   "id": "f7cc83a3-8856-4103-87d0-b5b044caa1d7",
   "metadata": {},
   "outputs": [],
   "source": [
    "imdb_df.index = imdb_df.index + 1\n",
    "imdb_df.columns = imdb_df.columns.str.replace(' ', '_').str.lower()\n",
    "imdb_df.info()"
   ]
  },
  {
   "cell_type": "markdown",
   "id": "51ee5da6-e68e-44a6-b9be-f37b003bcaf2",
   "metadata": {},
   "source": [
    "To preview the data in the DataFrame, you can use the head() and tail() methods. By defualt the head() method shows the top 5 rows of the DataFrame, while the tail() method shows the bottom 5 rows. Both methods can take an argument specifying the number of rows to preview.\n",
    "For example, imdb_df.head(10) will display the top 10 rows, while imdb_df.tail(3) will display the last 3 rows of the DataFrame.\n",
    "\n",
    "By utilizing these methods, you can preview the data in the DataFrame and get a sense of its contents and structure."
   ]
  },
  {
   "cell_type": "code",
   "execution_count": null,
   "id": "6c0dade9-5825-41c5-ac84-984d9047093d",
   "metadata": {},
   "outputs": [],
   "source": [
    "imdb_df.head()"
   ]
  },
  {
   "cell_type": "code",
   "execution_count": null,
   "id": "9759c0b6-9a66-49b4-ade7-164de952bd03",
   "metadata": {},
   "outputs": [],
   "source": [
    "imdb_df.tail()"
   ]
  },
  {
   "cell_type": "markdown",
   "id": "a20138a2-89bb-4c40-999f-1941248bcb8d",
   "metadata": {},
   "source": [
    "from the result, we can spot our first issue, the release_year column should contain only four digit, signifying a year but as you can see, we have cases of special charcaters (braces and dash), a case of the roman numeral \"I\" making an appearence, and some rows containing year ranges instead of single years. \n",
    "To gain a comprehensive understanding of the cleanliness of the \"release_year\" column, we can identify several issues by examining its unique values.\n",
    "To obtain a clear picture of the unique values in the column and address these concerns, we can assign the unique values to a variable and print them. Here's the code to accomplish this:"
   ]
  },
  {
   "cell_type": "code",
   "execution_count": 49,
   "id": "51149b44-7295-4cea-9934-5f03273c8f96",
   "metadata": {},
   "outputs": [
    {
     "name": "stdout",
     "output_type": "stream",
     "text": [
      "['I ' '' '– ' ... '2012 Podcast Series' 'II 2018 TV Movie' 'I 1970–1976']\n"
     ]
    }
   ],
   "source": [
    "unique_values = imdb_df['release_year'].unique()\n",
    "print(unique_values)"
   ]
  },
  {
   "cell_type": "code",
   "execution_count": 38,
   "id": "6af33bdf-9d9a-4048-93d1-3c8da4d9ff70",
   "metadata": {},
   "outputs": [
    {
     "data": {
      "text/html": [
       "<div>\n",
       "<style scoped>\n",
       "    .dataframe tbody tr th:only-of-type {\n",
       "        vertical-align: middle;\n",
       "    }\n",
       "\n",
       "    .dataframe tbody tr th {\n",
       "        vertical-align: top;\n",
       "    }\n",
       "\n",
       "    .dataframe thead th {\n",
       "        text-align: right;\n",
       "    }\n",
       "</style>\n",
       "<table border=\"1\" class=\"dataframe\">\n",
       "  <thead>\n",
       "    <tr style=\"text-align: right;\">\n",
       "      <th></th>\n",
       "      <th>title</th>\n",
       "      <th>imdb_id</th>\n",
       "      <th>release_year</th>\n",
       "      <th>genre</th>\n",
       "      <th>cast</th>\n",
       "      <th>synopsis</th>\n",
       "      <th>rating</th>\n",
       "      <th>runtime</th>\n",
       "      <th>certificate</th>\n",
       "      <th>number_of_votes</th>\n",
       "      <th>gross_revenue</th>\n",
       "    </tr>\n",
       "  </thead>\n",
       "  <tbody>\n",
       "    <tr>\n",
       "      <th>2</th>\n",
       "      <td>The Little Mermaid</td>\n",
       "      <td>tt5971474</td>\n",
       "      <td>I 2023</td>\n",
       "      <td>Adventure, Family, Fantasy</td>\n",
       "      <td>Director:, Rob Marshall, | ,     Stars:, Halle...</td>\n",
       "      <td>A young mermaid makes a deal with a sea witch ...</td>\n",
       "      <td>7.2</td>\n",
       "      <td>135 min</td>\n",
       "      <td>PG</td>\n",
       "      <td>69638</td>\n",
       "      <td>NaN</td>\n",
       "    </tr>\n",
       "    <tr>\n",
       "      <th>3</th>\n",
       "      <td>Spider-Man: Across the Spider-Verse</td>\n",
       "      <td>tt9362722</td>\n",
       "      <td>2023</td>\n",
       "      <td>Animation, Action, Adventure</td>\n",
       "      <td>Directors:, Joaquim Dos Santos, , Kemp Powers,...</td>\n",
       "      <td>Miles Morales catapults across the Multiverse,...</td>\n",
       "      <td>9.1</td>\n",
       "      <td>140 min</td>\n",
       "      <td>PG</td>\n",
       "      <td>71960</td>\n",
       "      <td>NaN</td>\n",
       "    </tr>\n",
       "    <tr>\n",
       "      <th>4</th>\n",
       "      <td>FUBAR</td>\n",
       "      <td>tt13064902</td>\n",
       "      <td>2023–</td>\n",
       "      <td>Action, Adventure, Thriller</td>\n",
       "      <td>Stars:, Arnold Schwarzenegger, , Monica Barbar...</td>\n",
       "      <td>A C.I.A. operative on the edge of retirement d...</td>\n",
       "      <td>6.5</td>\n",
       "      <td>NaN</td>\n",
       "      <td>TV-MA</td>\n",
       "      <td>15422</td>\n",
       "      <td>NaN</td>\n",
       "    </tr>\n",
       "    <tr>\n",
       "      <th>5</th>\n",
       "      <td>Fast X</td>\n",
       "      <td>tt5433140</td>\n",
       "      <td>2023</td>\n",
       "      <td>Action, Adventure, Crime</td>\n",
       "      <td>Director:, Louis Leterrier, | ,     Stars:, Vi...</td>\n",
       "      <td>Dom Toretto and his family are targeted by the...</td>\n",
       "      <td>6.3</td>\n",
       "      <td>141 min</td>\n",
       "      <td>PG-13</td>\n",
       "      <td>39326</td>\n",
       "      <td>NaN</td>\n",
       "    </tr>\n",
       "    <tr>\n",
       "      <th>6</th>\n",
       "      <td>Guardians of the Galaxy Vol. 3</td>\n",
       "      <td>tt6791350</td>\n",
       "      <td>2023</td>\n",
       "      <td>Action, Adventure, Comedy</td>\n",
       "      <td>Director:, James Gunn, | ,     Stars:, Chris P...</td>\n",
       "      <td>Still reeling from the loss of Gamora, Peter Q...</td>\n",
       "      <td>8.2</td>\n",
       "      <td>150 min</td>\n",
       "      <td>PG-13</td>\n",
       "      <td>160447</td>\n",
       "      <td>NaN</td>\n",
       "    </tr>\n",
       "  </tbody>\n",
       "</table>\n",
       "</div>"
      ],
      "text/plain": [
       "                                 title     imdb_id release_year  \\\n",
       "2                   The Little Mermaid   tt5971474       I 2023   \n",
       "3  Spider-Man: Across the Spider-Verse   tt9362722         2023   \n",
       "4                                FUBAR  tt13064902       2023–    \n",
       "5                               Fast X   tt5433140         2023   \n",
       "6       Guardians of the Galaxy Vol. 3   tt6791350         2023   \n",
       "\n",
       "                          genre  \\\n",
       "2    Adventure, Family, Fantasy   \n",
       "3  Animation, Action, Adventure   \n",
       "4   Action, Adventure, Thriller   \n",
       "5      Action, Adventure, Crime   \n",
       "6     Action, Adventure, Comedy   \n",
       "\n",
       "                                                cast  \\\n",
       "2  Director:, Rob Marshall, | ,     Stars:, Halle...   \n",
       "3  Directors:, Joaquim Dos Santos, , Kemp Powers,...   \n",
       "4  Stars:, Arnold Schwarzenegger, , Monica Barbar...   \n",
       "5  Director:, Louis Leterrier, | ,     Stars:, Vi...   \n",
       "6  Director:, James Gunn, | ,     Stars:, Chris P...   \n",
       "\n",
       "                                            synopsis  rating  runtime  \\\n",
       "2  A young mermaid makes a deal with a sea witch ...     7.2  135 min   \n",
       "3  Miles Morales catapults across the Multiverse,...     9.1  140 min   \n",
       "4  A C.I.A. operative on the edge of retirement d...     6.5      NaN   \n",
       "5  Dom Toretto and his family are targeted by the...     6.3  141 min   \n",
       "6  Still reeling from the loss of Gamora, Peter Q...     8.2  150 min   \n",
       "\n",
       "  certificate number_of_votes gross_revenue  \n",
       "2          PG           69638           NaN  \n",
       "3          PG           71960           NaN  \n",
       "4       TV-MA           15422           NaN  \n",
       "5       PG-13           39326           NaN  \n",
       "6       PG-13          160447           NaN  "
      ]
     },
     "execution_count": 38,
     "metadata": {},
     "output_type": "execute_result"
    }
   ],
   "source": [
    "imdb_df['release_year'] = imdb_df['release_year'].str.replace(r'\\(|\\)', '')\n",
    "imdb_df['release_year'] = imdb_df['release_year'].str.replace(r'[-–—]', '')\n",
    "\n",
    "imdb_df.head()"
   ]
  },
  {
   "cell_type": "code",
   "execution_count": 46,
   "id": "a093bbfd-80aa-4cc4-9aa8-0b969f00be00",
   "metadata": {},
   "outputs": [],
   "source": [
    "import re\n",
    "\n",
    "imdb_df['release_year'] = imdb_df['release_year'].str.replace(r'[^0-9]', '')\n",
    "imdb_df['release_year'] = imdb_df['release_year'].str.replace('2023', '')\n"
   ]
  },
  {
   "cell_type": "code",
   "execution_count": null,
   "id": "e6b2cf17-20bd-4871-bf01-3a7400fb3956",
   "metadata": {},
   "outputs": [],
   "source": []
  },
  {
   "cell_type": "code",
   "execution_count": null,
   "id": "d322505d-ecec-4eb8-a035-265d8311a5c2",
   "metadata": {},
   "outputs": [],
   "source": []
  },
  {
   "cell_type": "code",
   "execution_count": null,
   "id": "d91a571f-883b-4a9e-b538-2e6f28d73214",
   "metadata": {},
   "outputs": [],
   "source": []
  },
  {
   "cell_type": "code",
   "execution_count": null,
   "id": "1550b47f-14af-4c22-9a23-af5e68f0b27f",
   "metadata": {},
   "outputs": [],
   "source": []
  },
  {
   "cell_type": "code",
   "execution_count": null,
   "id": "985f7d6a-0393-4b3e-a46c-613ea74fff20",
   "metadata": {},
   "outputs": [],
   "source": [
    "# change columns to numeric datatypes \n",
    "imdb_df[[\"release_year\", \"number_of_votes\", \"gross_revenue\"]] = \\\n",
    "imdb_df[[\"release_year\", \"number_of_votes\", \"gross_revenue\"]].apply(pd.to_numeric)\n",
    "\n",
    "# verify the changes has been effected\n",
    "imdb.dtypes"
   ]
  },
  {
   "cell_type": "markdown",
   "id": "a96deb52-fdce-4f9c-955e-57237d399133",
   "metadata": {},
   "source": [
    "got a value error: \"ValueError: Unable to parse string \"I) (2023\" at position 0\"\n",
    "lets remove all special characters from the release_year column "
   ]
  },
  {
   "cell_type": "code",
   "execution_count": null,
   "id": "aa682d4e-23ea-4e05-bc9c-d1069c93b692",
   "metadata": {},
   "outputs": [],
   "source": [
    "imdb_df[\"release_year\"] = imdb_df[\"release_year\"].apply(lambda x: x[1:] if x.startswith('I') else x)"
   ]
  },
  {
   "cell_type": "code",
   "execution_count": null,
   "id": "041a6fac-f5e8-4dc1-9fca-8e48b58ccdb3",
   "metadata": {},
   "outputs": [],
   "source": [
    "# change columns to numeric datatypes \n",
    "imdb_df[[\"release_year\", \"number_of_votes\", \"gross_revenue\"]] = \\\n",
    "imdb_df[[\"release_year\", \"number_of_votes\", \"gross_revenue\"]].apply(pd.to_numeric)\n",
    "\n",
    "# verify the changes has been effected\n",
    "imdb.dtypes"
   ]
  },
  {
   "cell_type": "code",
   "execution_count": null,
   "id": "5dabefdf-c108-40b8-b17a-61833e6d3255",
   "metadata": {},
   "outputs": [],
   "source": [
    "# check for duplicate in the title column as each title must be unique\n",
    "imdb_df[\"synopsis\"].duplicated().sum()\n"
   ]
  },
  {
   "cell_type": "code",
   "execution_count": null,
   "id": "c9ed3d9a-1c40-4a91-adf6-3c5bd4b211d5",
   "metadata": {},
   "outputs": [],
   "source": [
    "imdb_df[\"title\"].duplicated().sum()"
   ]
  },
  {
   "cell_type": "code",
   "execution_count": null,
   "id": "eeec4655-c238-42b9-8966-7692d7c59ad8",
   "metadata": {},
   "outputs": [],
   "source": []
  }
 ],
 "metadata": {
  "kernelspec": {
   "display_name": "Python 3 (ipykernel)",
   "language": "python",
   "name": "python3"
  },
  "language_info": {
   "codemirror_mode": {
    "name": "ipython",
    "version": 3
   },
   "file_extension": ".py",
   "mimetype": "text/x-python",
   "name": "python",
   "nbconvert_exporter": "python",
   "pygments_lexer": "ipython3",
   "version": "3.8.10"
  }
 },
 "nbformat": 4,
 "nbformat_minor": 5
}
