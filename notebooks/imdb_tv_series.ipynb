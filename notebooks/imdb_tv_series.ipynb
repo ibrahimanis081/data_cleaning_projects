{
 "cells": [
  {
   "cell_type": "code",
   "execution_count": 47,
   "id": "9f050609-2925-43eb-be6d-4a973a360110",
   "metadata": {},
   "outputs": [],
   "source": [
    "import pandas as pd\n",
    "import glob\n",
    "import os\n",
    "from zipfile import ZipFile"
   ]
  },
  {
   "cell_type": "code",
   "execution_count": 48,
   "id": "6290dedd-a871-4673-839f-777dd5a37bee",
   "metadata": {},
   "outputs": [
    {
     "name": "stdout",
     "output_type": "stream",
     "text": [
      "['/home/anees/projects/EDA_and_data_cleaning/raw_data/imdb/archive.zip']\n"
     ]
    }
   ],
   "source": [
    "# find the name of the zip file in the directory \n",
    "print(glob.glob(\"/home/anees/projects/EDA_and_data_cleaning/raw_data/imdb/*.zip\"))"
   ]
  },
  {
   "cell_type": "code",
   "execution_count": 52,
   "id": "f0520a46-ce89-45dc-8ab5-dec701979e5f",
   "metadata": {},
   "outputs": [],
   "source": [
    "# extract the archive zip file to folder called imdb_files\n",
    "with ZipFile(\"/home/anees/projects/EDA_and_data_cleaning/raw_data/imdb/archive.zip\", \"r\") as file:\n",
    "    file.extractall(path=\"/home/anees/projects/EDA_and_data_cleaning/raw_data/imdb/imdb_files\")"
   ]
  },
  {
   "cell_type": "code",
   "execution_count": 53,
   "id": "49b5c780-c62d-40c9-9e4d-1f3a90114782",
   "metadata": {},
   "outputs": [
    {
     "name": "stdout",
     "output_type": "stream",
     "text": [
      "/home/anees/projects/EDA_and_data_cleaning/raw_data/imdb/imdb_files/adventure_series.csv\n",
      "/home/anees/projects/EDA_and_data_cleaning/raw_data/imdb/imdb_files/drama_series.csv\n",
      "/home/anees/projects/EDA_and_data_cleaning/raw_data/imdb/imdb_files/fantasy_series.csv\n",
      "/home/anees/projects/EDA_and_data_cleaning/raw_data/imdb/imdb_files/history_series.csv\n",
      "/home/anees/projects/EDA_and_data_cleaning/raw_data/imdb/imdb_files/biography_series.csv\n",
      "/home/anees/projects/EDA_and_data_cleaning/raw_data/imdb/imdb_files/crime_series.csv\n",
      "/home/anees/projects/EDA_and_data_cleaning/raw_data/imdb/imdb_files/sci-fi_series.csv\n",
      "/home/anees/projects/EDA_and_data_cleaning/raw_data/imdb/imdb_files/music_series.csv\n",
      "/home/anees/projects/EDA_and_data_cleaning/raw_data/imdb/imdb_files/western_series.csv\n",
      "/home/anees/projects/EDA_and_data_cleaning/raw_data/imdb/imdb_files/action_series.csv\n",
      "/home/anees/projects/EDA_and_data_cleaning/raw_data/imdb/imdb_files/thriller_series.csv\n",
      "/home/anees/projects/EDA_and_data_cleaning/raw_data/imdb/imdb_files/war_series.csv\n",
      "/home/anees/projects/EDA_and_data_cleaning/raw_data/imdb/imdb_files/romance_series.csv\n",
      "/home/anees/projects/EDA_and_data_cleaning/raw_data/imdb/imdb_files/animation_series.csv\n",
      "/home/anees/projects/EDA_and_data_cleaning/raw_data/imdb/imdb_files/comedy_series.csv\n",
      "/home/anees/projects/EDA_and_data_cleaning/raw_data/imdb/imdb_files/documentary_series.csv\n",
      "/home/anees/projects/EDA_and_data_cleaning/raw_data/imdb/imdb_files/mystery_series.csv\n",
      "/home/anees/projects/EDA_and_data_cleaning/raw_data/imdb/imdb_files/family_series.csv\n",
      "/home/anees/projects/EDA_and_data_cleaning/raw_data/imdb/imdb_files/sport_series.csv\n",
      "/home/anees/projects/EDA_and_data_cleaning/raw_data/imdb/imdb_files/musical_series.csv\n",
      "/home/anees/projects/EDA_and_data_cleaning/raw_data/imdb/imdb_files/superhero_series.csv\n",
      "/home/anees/projects/EDA_and_data_cleaning/raw_data/imdb/imdb_files/horror_series.csv\n"
     ]
    }
   ],
   "source": [
    "# check if the files have been extracted\n",
    "csv_files = glob.glob(\"/home/anees/projects/EDA_and_data_cleaning/raw_data/imdb/imdb_files/*.csv\")\n",
    "for csv_file in csv_files:\n",
    "    print(csv_file)"
   ]
  },
  {
   "cell_type": "code",
   "execution_count": 54,
   "id": "744b900b-0897-4795-99ea-a74ea70d344d",
   "metadata": {},
   "outputs": [],
   "source": [
    "# read the each csv file into a pandas dataframe, then combine them to form a single dataframe\n",
    "dataframes = []\n",
    "for csv_file in csv_files:\n",
    "    df = pd.read_csv(csv_file)\n",
    "    dataframes.append(df)\n",
    "imdb_df = pd.concat(dataframes, ignore_index=True)"
   ]
  },
  {
   "cell_type": "code",
   "execution_count": 55,
   "id": "c4003597-6bc4-4963-8f21-31654f79d2a5",
   "metadata": {},
   "outputs": [
    {
     "name": "stdout",
     "output_type": "stream",
     "text": [
      "<class 'pandas.core.frame.DataFrame'>\n",
      "RangeIndex: 236828 entries, 0 to 236827\n",
      "Data columns (total 11 columns):\n",
      " #   Column           Non-Null Count   Dtype  \n",
      "---  ------           --------------   -----  \n",
      " 0   Title            236828 non-null  object \n",
      " 1   IMDb ID          236828 non-null  object \n",
      " 2   Release Year     236819 non-null  object \n",
      " 3   Genre            236828 non-null  object \n",
      " 4   Cast             235956 non-null  object \n",
      " 5   Synopsis         236828 non-null  object \n",
      " 6   Rating           236828 non-null  float64\n",
      " 7   Runtime          216983 non-null  object \n",
      " 8   Certificate      169091 non-null  object \n",
      " 9   Number of Votes  236828 non-null  object \n",
      " 10  Gross Revenue    45611 non-null   object \n",
      "dtypes: float64(1), object(10)\n",
      "memory usage: 19.9+ MB\n"
     ]
    },
    {
     "data": {
      "text/html": [
       "<div>\n",
       "<style scoped>\n",
       "    .dataframe tbody tr th:only-of-type {\n",
       "        vertical-align: middle;\n",
       "    }\n",
       "\n",
       "    .dataframe tbody tr th {\n",
       "        vertical-align: top;\n",
       "    }\n",
       "\n",
       "    .dataframe thead th {\n",
       "        text-align: right;\n",
       "    }\n",
       "</style>\n",
       "<table border=\"1\" class=\"dataframe\">\n",
       "  <thead>\n",
       "    <tr style=\"text-align: right;\">\n",
       "      <th></th>\n",
       "      <th>Title</th>\n",
       "      <th>IMDb ID</th>\n",
       "      <th>Release Year</th>\n",
       "      <th>Genre</th>\n",
       "      <th>Cast</th>\n",
       "      <th>Synopsis</th>\n",
       "      <th>Rating</th>\n",
       "      <th>Runtime</th>\n",
       "      <th>Certificate</th>\n",
       "      <th>Number of Votes</th>\n",
       "      <th>Gross Revenue</th>\n",
       "    </tr>\n",
       "  </thead>\n",
       "  <tbody>\n",
       "    <tr>\n",
       "      <th>0</th>\n",
       "      <td>The Little Mermaid</td>\n",
       "      <td>tt5971474</td>\n",
       "      <td>I) (2023</td>\n",
       "      <td>Adventure, Family, Fantasy</td>\n",
       "      <td>Director:, Rob Marshall, | ,     Stars:, Halle...</td>\n",
       "      <td>A young mermaid makes a deal with a sea witch ...</td>\n",
       "      <td>7.2</td>\n",
       "      <td>135 min</td>\n",
       "      <td>PG</td>\n",
       "      <td>69638</td>\n",
       "      <td>NaN</td>\n",
       "    </tr>\n",
       "    <tr>\n",
       "      <th>1</th>\n",
       "      <td>Spider-Man: Across the Spider-Verse</td>\n",
       "      <td>tt9362722</td>\n",
       "      <td>2023</td>\n",
       "      <td>Animation, Action, Adventure</td>\n",
       "      <td>Directors:, Joaquim Dos Santos, , Kemp Powers,...</td>\n",
       "      <td>Miles Morales catapults across the Multiverse,...</td>\n",
       "      <td>9.1</td>\n",
       "      <td>140 min</td>\n",
       "      <td>PG</td>\n",
       "      <td>71960</td>\n",
       "      <td>NaN</td>\n",
       "    </tr>\n",
       "    <tr>\n",
       "      <th>2</th>\n",
       "      <td>FUBAR</td>\n",
       "      <td>tt13064902</td>\n",
       "      <td>2023–</td>\n",
       "      <td>Action, Adventure, Thriller</td>\n",
       "      <td>Stars:, Arnold Schwarzenegger, , Monica Barbar...</td>\n",
       "      <td>A C.I.A. operative on the edge of retirement d...</td>\n",
       "      <td>6.5</td>\n",
       "      <td>NaN</td>\n",
       "      <td>TV-MA</td>\n",
       "      <td>15422</td>\n",
       "      <td>NaN</td>\n",
       "    </tr>\n",
       "    <tr>\n",
       "      <th>3</th>\n",
       "      <td>Fast X</td>\n",
       "      <td>tt5433140</td>\n",
       "      <td>2023</td>\n",
       "      <td>Action, Adventure, Crime</td>\n",
       "      <td>Director:, Louis Leterrier, | ,     Stars:, Vi...</td>\n",
       "      <td>Dom Toretto and his family are targeted by the...</td>\n",
       "      <td>6.3</td>\n",
       "      <td>141 min</td>\n",
       "      <td>PG-13</td>\n",
       "      <td>39326</td>\n",
       "      <td>NaN</td>\n",
       "    </tr>\n",
       "    <tr>\n",
       "      <th>4</th>\n",
       "      <td>Guardians of the Galaxy Vol. 3</td>\n",
       "      <td>tt6791350</td>\n",
       "      <td>2023</td>\n",
       "      <td>Action, Adventure, Comedy</td>\n",
       "      <td>Director:, James Gunn, | ,     Stars:, Chris P...</td>\n",
       "      <td>Still reeling from the loss of Gamora, Peter Q...</td>\n",
       "      <td>8.2</td>\n",
       "      <td>150 min</td>\n",
       "      <td>PG-13</td>\n",
       "      <td>160447</td>\n",
       "      <td>NaN</td>\n",
       "    </tr>\n",
       "  </tbody>\n",
       "</table>\n",
       "</div>"
      ],
      "text/plain": [
       "                                 Title     IMDb ID Release Year  \\\n",
       "0                   The Little Mermaid   tt5971474     I) (2023   \n",
       "1  Spider-Man: Across the Spider-Verse   tt9362722         2023   \n",
       "2                                FUBAR  tt13064902       2023–    \n",
       "3                               Fast X   tt5433140         2023   \n",
       "4       Guardians of the Galaxy Vol. 3   tt6791350         2023   \n",
       "\n",
       "                          Genre  \\\n",
       "0    Adventure, Family, Fantasy   \n",
       "1  Animation, Action, Adventure   \n",
       "2   Action, Adventure, Thriller   \n",
       "3      Action, Adventure, Crime   \n",
       "4     Action, Adventure, Comedy   \n",
       "\n",
       "                                                Cast  \\\n",
       "0  Director:, Rob Marshall, | ,     Stars:, Halle...   \n",
       "1  Directors:, Joaquim Dos Santos, , Kemp Powers,...   \n",
       "2  Stars:, Arnold Schwarzenegger, , Monica Barbar...   \n",
       "3  Director:, Louis Leterrier, | ,     Stars:, Vi...   \n",
       "4  Director:, James Gunn, | ,     Stars:, Chris P...   \n",
       "\n",
       "                                            Synopsis  Rating  Runtime  \\\n",
       "0  A young mermaid makes a deal with a sea witch ...     7.2  135 min   \n",
       "1  Miles Morales catapults across the Multiverse,...     9.1  140 min   \n",
       "2  A C.I.A. operative on the edge of retirement d...     6.5      NaN   \n",
       "3  Dom Toretto and his family are targeted by the...     6.3  141 min   \n",
       "4  Still reeling from the loss of Gamora, Peter Q...     8.2  150 min   \n",
       "\n",
       "  Certificate Number of Votes Gross Revenue  \n",
       "0          PG           69638           NaN  \n",
       "1          PG           71960           NaN  \n",
       "2       TV-MA           15422           NaN  \n",
       "3       PG-13           39326           NaN  \n",
       "4       PG-13          160447           NaN  "
      ]
     },
     "execution_count": 55,
     "metadata": {},
     "output_type": "execute_result"
    }
   ],
   "source": [
    "# get the basic information about the dataset\n",
    "imdb_df.info()\n",
    "\n",
    "# preview the dataset\n",
    "imdb_df.head()    "
   ]
  },
  {
   "cell_type": "markdown",
   "id": "0f31d698-de58-4b78-a85a-8263a117593b",
   "metadata": {},
   "source": [
    "next is to perform columnar operations on the dataset"
   ]
  },
  {
   "cell_type": "code",
   "execution_count": null,
   "id": "98ebe50c-4f25-43fb-8f0f-d8355795934c",
   "metadata": {},
   "outputs": [],
   "source": [
    "# give a name to the index column \n",
    "imdb_df.index.name = 'index'\n",
    "print(type(imdb_df))\n",
    "\n",
    "# preview the data again\n",
    "imdb_df.head()"
   ]
  },
  {
   "cell_type": "code",
   "execution_count": null,
   "id": "f7cc83a3-8856-4103-87d0-b5b044caa1d7",
   "metadata": {},
   "outputs": [],
   "source": [
    "# index starts at 0, set to 1\n",
    "imdb_df.index = imdb_df.index + 1\n",
    "print(type(imdb_df))\n",
    "\n",
    "# preview the dataframe again\n",
    "imdb_df.head()"
   ]
  },
  {
   "cell_type": "code",
   "execution_count": null,
   "id": "6060cb34-359f-4673-99bd-1e34354b9ba4",
   "metadata": {},
   "outputs": [],
   "source": [
    "# replace space between columns names with underschore (_) and change the column names to lower case\n",
    "imdb_df.columns = imdb_df.columns.str.replace(' ', '_').str.lower()\n",
    "imdb_df.head()"
   ]
  },
  {
   "cell_type": "code",
   "execution_count": null,
   "id": "b6778631-bb6a-4d45-befb-be2c7b78af9e",
   "metadata": {},
   "outputs": [],
   "source": [
    "# check the data types of columns \n",
    "imdb_df.dtypes"
   ]
  },
  {
   "cell_type": "code",
   "execution_count": null,
   "id": "985f7d6a-0393-4b3e-a46c-613ea74fff20",
   "metadata": {},
   "outputs": [],
   "source": [
    "# change columns to numeric datatypes \n",
    "imdb_df[[\"release_year\", \"number_of_votes\", \"gross_revenue\"]] = \\\n",
    "imdb_df[[\"release_year\", \"number_of_votes\", \"gross_revenue\"]].apply(pd.to_numeric)\n",
    "\n",
    "# verify the changes has been effected\n",
    "imdb.dtypes"
   ]
  },
  {
   "cell_type": "markdown",
   "id": "a96deb52-fdce-4f9c-955e-57237d399133",
   "metadata": {},
   "source": [
    "got a value error: \"ValueError: Unable to parse string \"I) (2023\" at position 0\"\n",
    "lets remove all special characters from the release_year column "
   ]
  },
  {
   "cell_type": "code",
   "execution_count": null,
   "id": "aa682d4e-23ea-4e05-bc9c-d1069c93b692",
   "metadata": {},
   "outputs": [],
   "source": [
    "imdb_df[\"release_year\"] = imdb_df[\"release_year\"].apply(lambda x: x[1:] if x.startswith('I') else x)"
   ]
  },
  {
   "cell_type": "code",
   "execution_count": null,
   "id": "041a6fac-f5e8-4dc1-9fca-8e48b58ccdb3",
   "metadata": {},
   "outputs": [],
   "source": [
    "# change columns to numeric datatypes \n",
    "imdb_df[[\"release_year\", \"number_of_votes\", \"gross_revenue\"]] = \\\n",
    "imdb_df[[\"release_year\", \"number_of_votes\", \"gross_revenue\"]].apply(pd.to_numeric)\n",
    "\n",
    "# verify the changes has been effected\n",
    "imdb.dtypes"
   ]
  },
  {
   "cell_type": "code",
   "execution_count": null,
   "id": "5dabefdf-c108-40b8-b17a-61833e6d3255",
   "metadata": {},
   "outputs": [],
   "source": [
    "# check for duplicate in the title column as each title must be unique\n",
    "imdb_df[\"synopsis\"].duplicated().sum()\n"
   ]
  },
  {
   "cell_type": "code",
   "execution_count": null,
   "id": "c9ed3d9a-1c40-4a91-adf6-3c5bd4b211d5",
   "metadata": {},
   "outputs": [],
   "source": [
    "imdb_df[\"title\"].duplicated().sum()"
   ]
  },
  {
   "cell_type": "code",
   "execution_count": null,
   "id": "eeec4655-c238-42b9-8966-7692d7c59ad8",
   "metadata": {},
   "outputs": [],
   "source": []
  }
 ],
 "metadata": {
  "kernelspec": {
   "display_name": "Python 3 (ipykernel)",
   "language": "python",
   "name": "python3"
  },
  "language_info": {
   "codemirror_mode": {
    "name": "ipython",
    "version": 3
   },
   "file_extension": ".py",
   "mimetype": "text/x-python",
   "name": "python",
   "nbconvert_exporter": "python",
   "pygments_lexer": "ipython3",
   "version": "3.8.10"
  }
 },
 "nbformat": 4,
 "nbformat_minor": 5
}
